{
 "cells": [
  {
   "attachments": {},
   "cell_type": "markdown",
   "id": "321b8871ead54638",
   "metadata": {
    "collapsed": false,
    "jupyter": {
     "outputs_hidden": false
    }
   },
   "source": [
    "# Tecnológico de Monterrey Campus Monterrey\n",
    "# TC3002B Desarrollo de Aplicaciones Avanzadas de Ciencias Computacionales (Grupo 507)\n",
    "\n",
    "## “Convolutional Neural Networks”\n",
    "\n",
    "## Alumno: Romel Aldair Vázquez Molina\n",
    "## Matrícula: A01700519\n",
    "\n",
    "## Profesor: Jorge Mario Cruz Duarte\n",
    "\n",
    "### Fecha de entrega: 31 de mayo del 2024\n",
    "\n"
   ]
  },
  {
   "cell_type": "markdown",
   "id": "45705ce6",
   "metadata": {},
   "source": [
    "## Experiment 1"
   ]
  },
  {
   "cell_type": "markdown",
   "id": "e67f7d40",
   "metadata": {},
   "source": [
    "This baseline model will be the one you must beat in the next experiments. So, implement a basic CNN model with the following architecture:\n",
    "\n",
    "\n",
    "• Convolutional layer with 32 filters, 3×3 kernel size, and ReLU activation.\n",
    "\n",
    "• MaxPooling layer with 2×2 pool size.\n",
    "\n",
    "• Flatten layer.\n",
    "\n",
    "• Dense layer with 128 units and ReLU activation.\n",
    "\n",
    "• Dense output layer with softmax activation.\n",
    "\n",
    "After compiling the model, train it on the CIFAR-10 dataset and report the accuracy. Consider that this model would be the one to beat in the following experiments."
   ]
  },
  {
   "cell_type": "code",
   "execution_count": 33,
   "id": "d835062e",
   "metadata": {},
   "outputs": [],
   "source": [
    "# Importar librerias\n",
    "import tensorflow as tf\n",
    "from tensorflow.keras import datasets, layers, models\n",
    "import matplotlib.pyplot as plt\n",
    "import numpy as np\n",
    "from tensorflow.keras.preprocessing.image import ImageDataGenerator\n",
    "\n",
    "RELU = 'relu'\n",
    "SOFTMAX = 'softmax'"
   ]
  },
  {
   "cell_type": "code",
   "execution_count": 15,
   "id": "ea357b4a",
   "metadata": {},
   "outputs": [],
   "source": [
    "# Cargar datos del CIFAR 10\n",
    "DatosCIFAR10 = datasets.cifar10.load_data()\n",
    "(EntrenamientoDeImagenes, EntrenamientoDeEtiquetas), (PruebaDeImagenes, PruebaDeEtiquetas ) = DatosCIFAR10\n",
    "\n",
    "# Normalización de los pixeles\n",
    "EntrenamientoDeImagenes = EntrenamientoDeImagenes / 255\n",
    "PruebaDeImagenes =  PruebaDeImagenes / 255"
   ]
  },
  {
   "cell_type": "code",
   "execution_count": 13,
   "id": "1ab62432",
   "metadata": {},
   "outputs": [],
   "source": [
    "# Experimento 1 del modelo base\n",
    "# Capa convucional de 32 filtro, con un kernel de 3x3 y activación ReLU\n",
    "# Agrupación Máxima de 2x2\n",
    "# Capa Aplanada\n",
    "# Densidad de la capa con 128 unidades y activación ReLU\n",
    "# Capa de salida con activacion softmax\n",
    "\n",
    "\n",
    "modelo1 = models.Sequential([\n",
    "    layers.Conv2D(32, (3, 3), activation= RELU, input_shape=(32, 32, 3)),\n",
    "    layers.MaxPooling2D((2, 2)),\n",
    "    layers.Flatten(),\n",
    "    layers.Dense(128, activation= RELU),\n",
    "    layers.Dense(10, activation= SOFTMAX)\n",
    "])\n",
    "\n",
    "modelo1.compile(optimizer='adam',\n",
    "              loss='sparse_categorical_crossentropy',\n",
    "              metrics=['accuracy'])\n"
   ]
  },
  {
   "cell_type": "code",
   "execution_count": 14,
   "id": "08ed32eb",
   "metadata": {},
   "outputs": [
    {
     "name": "stdout",
     "output_type": "stream",
     "text": [
      "Epoch 1/10\n",
      "\u001b[1m1563/1563\u001b[0m \u001b[32m━━━━━━━━━━━━━━━━━━━━\u001b[0m\u001b[37m\u001b[0m \u001b[1m31s\u001b[0m 18ms/step - accuracy: 0.4074 - loss: 1.6516 - val_accuracy: 0.5461 - val_loss: 1.2773\n",
      "Epoch 2/10\n",
      "\u001b[1m1563/1563\u001b[0m \u001b[32m━━━━━━━━━━━━━━━━━━━━\u001b[0m\u001b[37m\u001b[0m \u001b[1m28s\u001b[0m 18ms/step - accuracy: 0.5887 - loss: 1.1695 - val_accuracy: 0.6082 - val_loss: 1.1120\n",
      "Epoch 3/10\n",
      "\u001b[1m1563/1563\u001b[0m \u001b[32m━━━━━━━━━━━━━━━━━━━━\u001b[0m\u001b[37m\u001b[0m \u001b[1m25s\u001b[0m 16ms/step - accuracy: 0.6450 - loss: 1.0086 - val_accuracy: 0.6225 - val_loss: 1.0743\n",
      "Epoch 4/10\n",
      "\u001b[1m1563/1563\u001b[0m \u001b[32m━━━━━━━━━━━━━━━━━━━━\u001b[0m\u001b[37m\u001b[0m \u001b[1m28s\u001b[0m 18ms/step - accuracy: 0.6824 - loss: 0.9106 - val_accuracy: 0.6250 - val_loss: 1.0550\n",
      "Epoch 5/10\n",
      "\u001b[1m1563/1563\u001b[0m \u001b[32m━━━━━━━━━━━━━━━━━━━━\u001b[0m\u001b[37m\u001b[0m \u001b[1m25s\u001b[0m 16ms/step - accuracy: 0.7060 - loss: 0.8340 - val_accuracy: 0.6366 - val_loss: 1.0410\n",
      "Epoch 6/10\n",
      "\u001b[1m1563/1563\u001b[0m \u001b[32m━━━━━━━━━━━━━━━━━━━━\u001b[0m\u001b[37m\u001b[0m \u001b[1m48s\u001b[0m 21ms/step - accuracy: 0.7388 - loss: 0.7587 - val_accuracy: 0.6381 - val_loss: 1.0414\n",
      "Epoch 7/10\n",
      "\u001b[1m1563/1563\u001b[0m \u001b[32m━━━━━━━━━━━━━━━━━━━━\u001b[0m\u001b[37m\u001b[0m \u001b[1m33s\u001b[0m 21ms/step - accuracy: 0.7549 - loss: 0.6950 - val_accuracy: 0.6473 - val_loss: 1.0510\n",
      "Epoch 8/10\n",
      "\u001b[1m1563/1563\u001b[0m \u001b[32m━━━━━━━━━━━━━━━━━━━━\u001b[0m\u001b[37m\u001b[0m \u001b[1m28s\u001b[0m 18ms/step - accuracy: 0.7735 - loss: 0.6413 - val_accuracy: 0.6503 - val_loss: 1.0600\n",
      "Epoch 9/10\n",
      "\u001b[1m1563/1563\u001b[0m \u001b[32m━━━━━━━━━━━━━━━━━━━━\u001b[0m\u001b[37m\u001b[0m \u001b[1m30s\u001b[0m 19ms/step - accuracy: 0.7936 - loss: 0.5901 - val_accuracy: 0.6487 - val_loss: 1.0872\n",
      "Epoch 10/10\n",
      "\u001b[1m1563/1563\u001b[0m \u001b[32m━━━━━━━━━━━━━━━━━━━━\u001b[0m\u001b[37m\u001b[0m \u001b[1m27s\u001b[0m 17ms/step - accuracy: 0.8143 - loss: 0.5391 - val_accuracy: 0.6331 - val_loss: 1.1920\n"
     ]
    }
   ],
   "source": [
    "# Entrenamiento del Modelo\n",
    "# Nota: Sea paciente con el entrenamiento de esta linea de codigo\n",
    "modelo1Entrenado = False\n",
    "\n",
    "if modelo1Entrenado == False:\n",
    "    entrenamiento1 = modelo1.fit(EntrenamientoDeImagenes, EntrenamientoDeEtiquetas, epochs=10, \n",
    "                    validation_data=(PruebaDeImagenes, PruebaDeEtiquetas))\n",
    "    modelo1Entrenado = True\n",
    "\n",
    "else:\n",
    "    print(\"Modelo 1 ya entrenado previamente, cambie la condicional inicial si lo quiere re-entrenar\")    \n",
    "\n",
    "\n"
   ]
  },
  {
   "cell_type": "code",
   "execution_count": 15,
   "id": "fcee4fad",
   "metadata": {},
   "outputs": [
    {
     "name": "stdout",
     "output_type": "stream",
     "text": [
      "313/313 - 1s - 4ms/step - accuracy: 0.6331 - loss: 1.1920\n",
      "Precision del Modelo 1: 63.31%\n"
     ]
    }
   ],
   "source": [
    "# Precision del Modelo\n",
    "resultadosModelo1 = modelo1.evaluate(PruebaDeImagenes, PruebaDeEtiquetas, verbose=2)\n",
    "precisionModelo1 = resultadosModelo1 [1] * 100\n",
    "\n",
    "print('Precision del Modelo 1: %.2f%%' % precisionModelo1)"
   ]
  },
  {
   "cell_type": "markdown",
   "id": "e5082424",
   "metadata": {},
   "source": [
    "## Experiment 2"
   ]
  },
  {
   "cell_type": "markdown",
   "id": "622ca8ed",
   "metadata": {},
   "source": [
    "Vary the architecture of your baseline model and report how each change impacts the performance. Consider adding\n",
    "more convolutional layers, varying the number of filters in each convolutional layer, including dropout layers to reduce\n",
    "overfitting, and so forth."
   ]
  },
  {
   "cell_type": "code",
   "execution_count": 16,
   "id": "6fbefd80",
   "metadata": {},
   "outputs": [],
   "source": [
    "# Define the model with additional convolutional layers\n",
    "modelo2 = models.Sequential([\n",
    "    layers.Conv2D(32, (3, 3), activation= RELU, input_shape=(32, 32, 3)),\n",
    "    layers.MaxPooling2D((2, 2)),\n",
    "    layers.Dropout(0.25),\n",
    "    layers.Conv2D(128, (3, 3), activation= RELU), #Buscar lo que hace esto\n",
    "    layers.MaxPooling2D((2, 2)),\n",
    "    layers.Flatten(),\n",
    "    layers.Dense(128, activation= RELU ), #buscar que hace esto\n",
    "    layers.Dropout(0.5),\n",
    "    layers.Dense(10, activation= SOFTMAX)\n",
    "])\n",
    "\n",
    "modelo2.compile(optimizer='adam',\n",
    "                               loss='sparse_categorical_crossentropy',\n",
    "                               metrics=['accuracy'])"
   ]
  },
  {
   "cell_type": "code",
   "execution_count": 17,
   "id": "d9d0c683",
   "metadata": {},
   "outputs": [
    {
     "name": "stdout",
     "output_type": "stream",
     "text": [
      "Epoch 1/10\n",
      "\u001b[1m1563/1563\u001b[0m \u001b[32m━━━━━━━━━━━━━━━━━━━━\u001b[0m\u001b[37m\u001b[0m \u001b[1m55s\u001b[0m 34ms/step - accuracy: 0.3163 - loss: 1.8328 - val_accuracy: 0.5518 - val_loss: 1.2636\n",
      "Epoch 2/10\n",
      "\u001b[1m1563/1563\u001b[0m \u001b[32m━━━━━━━━━━━━━━━━━━━━\u001b[0m\u001b[37m\u001b[0m \u001b[1m62s\u001b[0m 21ms/step - accuracy: 0.5276 - loss: 1.3291 - val_accuracy: 0.6223 - val_loss: 1.0839\n",
      "Epoch 3/10\n",
      "\u001b[1m1563/1563\u001b[0m \u001b[32m━━━━━━━━━━━━━━━━━━━━\u001b[0m\u001b[37m\u001b[0m \u001b[1m30s\u001b[0m 19ms/step - accuracy: 0.5821 - loss: 1.1839 - val_accuracy: 0.6559 - val_loss: 0.9924\n",
      "Epoch 4/10\n",
      "\u001b[1m1563/1563\u001b[0m \u001b[32m━━━━━━━━━━━━━━━━━━━━\u001b[0m\u001b[37m\u001b[0m \u001b[1m44s\u001b[0m 28ms/step - accuracy: 0.6163 - loss: 1.0977 - val_accuracy: 0.6795 - val_loss: 0.9269\n",
      "Epoch 5/10\n",
      "\u001b[1m1563/1563\u001b[0m \u001b[32m━━━━━━━━━━━━━━━━━━━━\u001b[0m\u001b[37m\u001b[0m \u001b[1m43s\u001b[0m 27ms/step - accuracy: 0.6343 - loss: 1.0333 - val_accuracy: 0.6821 - val_loss: 0.9300\n",
      "Epoch 6/10\n",
      "\u001b[1m1563/1563\u001b[0m \u001b[32m━━━━━━━━━━━━━━━━━━━━\u001b[0m\u001b[37m\u001b[0m \u001b[1m37s\u001b[0m 24ms/step - accuracy: 0.6593 - loss: 0.9739 - val_accuracy: 0.6931 - val_loss: 0.8894\n",
      "Epoch 7/10\n",
      "\u001b[1m1563/1563\u001b[0m \u001b[32m━━━━━━━━━━━━━━━━━━━━\u001b[0m\u001b[37m\u001b[0m \u001b[1m39s\u001b[0m 25ms/step - accuracy: 0.6703 - loss: 0.9285 - val_accuracy: 0.7076 - val_loss: 0.8523\n",
      "Epoch 8/10\n",
      "\u001b[1m1563/1563\u001b[0m \u001b[32m━━━━━━━━━━━━━━━━━━━━\u001b[0m\u001b[37m\u001b[0m \u001b[1m39s\u001b[0m 25ms/step - accuracy: 0.6886 - loss: 0.8874 - val_accuracy: 0.7206 - val_loss: 0.8257\n",
      "Epoch 9/10\n",
      "\u001b[1m1563/1563\u001b[0m \u001b[32m━━━━━━━━━━━━━━━━━━━━\u001b[0m\u001b[37m\u001b[0m \u001b[1m42s\u001b[0m 27ms/step - accuracy: 0.6955 - loss: 0.8610 - val_accuracy: 0.7090 - val_loss: 0.8366\n",
      "Epoch 10/10\n",
      "\u001b[1m1563/1563\u001b[0m \u001b[32m━━━━━━━━━━━━━━━━━━━━\u001b[0m\u001b[37m\u001b[0m \u001b[1m48s\u001b[0m 31ms/step - accuracy: 0.7080 - loss: 0.8249 - val_accuracy: 0.7241 - val_loss: 0.8241\n"
     ]
    }
   ],
   "source": [
    "# Entrenamiento del Modelo 2\n",
    "# Nota: Sea paciente con el entrenamiento de esta linea de codigo\n",
    "\n",
    "modelo2Entrenado = False\n",
    "\n",
    "if modelo2Entrenado == False:\n",
    "    entrenamiento2 = modelo2.fit(EntrenamientoDeImagenes, EntrenamientoDeEtiquetas, epochs=10, \n",
    "                    validation_data=(PruebaDeImagenes, PruebaDeEtiquetas))\n",
    "    modelo2Entrenado = True\n",
    "\n",
    "else:\n",
    "    print(\"Modelo 2 ya entrenado previamente, cambie la condicional inicial si lo quiere re-entrenar\")    "
   ]
  },
  {
   "cell_type": "code",
   "execution_count": 18,
   "id": "20f7e2f4",
   "metadata": {},
   "outputs": [
    {
     "name": "stdout",
     "output_type": "stream",
     "text": [
      "313/313 - 2s - 7ms/step - accuracy: 0.7241 - loss: 0.8241\n",
      "Precision del Modelo 2: 72.41%\n"
     ]
    }
   ],
   "source": [
    "# Precision del Modelo 2\n",
    "resultadosModelo2 = modelo2.evaluate(PruebaDeImagenes, PruebaDeEtiquetas, verbose=2)\n",
    "precisionModelo2 = resultadosModelo2 [1] * 100\n",
    "\n",
    "print('Precision del Modelo 2: %.2f%%' % precisionModelo2)"
   ]
  },
  {
   "cell_type": "markdown",
   "id": "f3888021",
   "metadata": {},
   "source": [
    "## Experiment 3"
   ]
  },
  {
   "cell_type": "markdown",
   "id": "0a0639ff",
   "metadata": {},
   "source": [
    "Explore different hyper-parameters, including learning rate, batch size, and number of epochs. Plus, use a validation\n",
    "set to tune the hyper-parameters and report the results on the test set."
   ]
  },
  {
   "cell_type": "code",
   "execution_count": 30,
   "id": "175dd76a",
   "metadata": {},
   "outputs": [],
   "source": [
    "#Definicion de los hyperparamteros\n",
    "aprendizajes = [0.01, 0.001, 0.0001]\n",
    "lotes = [32, 64, 128]\n",
    "epocas = [10, 20, 30]\n",
    "\n",
    "entrenamientos = []"
   ]
  },
  {
   "cell_type": "code",
   "execution_count": 31,
   "id": "3c5e3f97",
   "metadata": {},
   "outputs": [
    {
     "name": "stderr",
     "output_type": "stream",
     "text": [
      "c:\\Users\\ravml\\OneDrive\\Escritorio\\decimo semestre\\COMPILADORES\\El otro profe\\M2.5\\M2.5\\venv\\Lib\\site-packages\\keras\\src\\layers\\convolutional\\base_conv.py:107: UserWarning: Do not pass an `input_shape`/`input_dim` argument to a layer. When using Sequential models, prefer using an `Input(shape)` object as the first layer in the model instead.\n",
      "  super().__init__(activity_regularizer=activity_regularizer, **kwargs)\n"
     ]
    },
    {
     "ename": "KeyboardInterrupt",
     "evalue": "",
     "output_type": "error",
     "traceback": [
      "\u001b[1;31m---------------------------------------------------------------------------\u001b[0m",
      "\u001b[1;31mKeyboardInterrupt\u001b[0m                         Traceback (most recent call last)",
      "Cell \u001b[1;32mIn[31], line 19\u001b[0m\n\u001b[0;32m     16\u001b[0m optimizador \u001b[38;5;241m=\u001b[39m tf\u001b[38;5;241m.\u001b[39mkeras\u001b[38;5;241m.\u001b[39moptimizers\u001b[38;5;241m.\u001b[39mAdam(learning_rate\u001b[38;5;241m=\u001b[39maprendizaje) \n\u001b[0;32m     17\u001b[0m modelo3\u001b[38;5;241m.\u001b[39mcompile(optimizer\u001b[38;5;241m=\u001b[39moptimizador,loss\u001b[38;5;241m=\u001b[39m\u001b[38;5;124m'\u001b[39m\u001b[38;5;124msparse_categorical_crossentropy\u001b[39m\u001b[38;5;124m'\u001b[39m,metrics\u001b[38;5;241m=\u001b[39m[\u001b[38;5;124m'\u001b[39m\u001b[38;5;124maccuracy\u001b[39m\u001b[38;5;124m'\u001b[39m])\n\u001b[1;32m---> 19\u001b[0m entrenamiento3 \u001b[38;5;241m=\u001b[39m \u001b[43mmodelo3\u001b[49m\u001b[38;5;241;43m.\u001b[39;49m\u001b[43mfit\u001b[49m\u001b[43m(\u001b[49m\u001b[43mEntrenamientoDeImagenes\u001b[49m\u001b[43m,\u001b[49m\u001b[43m \u001b[49m\u001b[43mEntrenamientoDeEtiquetas\u001b[49m\u001b[43m,\u001b[49m\u001b[43m \u001b[49m\u001b[43mepochs\u001b[49m\u001b[38;5;241;43m=\u001b[39;49m\u001b[43mepoca\u001b[49m\u001b[43m,\u001b[49m\u001b[43m \u001b[49m\u001b[43mbatch_size\u001b[49m\u001b[38;5;241;43m=\u001b[39;49m\u001b[43mlote\u001b[49m\u001b[43m,\u001b[49m\u001b[43m \u001b[49m\u001b[43mvalidation_split\u001b[49m\u001b[38;5;241;43m=\u001b[39;49m\u001b[38;5;241;43m0.2\u001b[39;49m\u001b[43m,\u001b[49m\u001b[43m \u001b[49m\u001b[43mverbose\u001b[49m\u001b[38;5;241;43m=\u001b[39;49m\u001b[38;5;241;43m0\u001b[39;49m\u001b[43m)\u001b[49m\n\u001b[0;32m     20\u001b[0m resultadosModelo3 \u001b[38;5;241m=\u001b[39m modelo3\u001b[38;5;241m.\u001b[39mevaluate(PruebaDeImagenes, PruebaDeEtiquetas, verbose\u001b[38;5;241m=\u001b[39m\u001b[38;5;241m0\u001b[39m)\n\u001b[0;32m     21\u001b[0m precisionModelo3 \u001b[38;5;241m=\u001b[39m resultadosModelo3 [\u001b[38;5;241m1\u001b[39m]\n",
      "File \u001b[1;32mc:\\Users\\ravml\\OneDrive\\Escritorio\\decimo semestre\\COMPILADORES\\El otro profe\\M2.5\\M2.5\\venv\\Lib\\site-packages\\keras\\src\\utils\\traceback_utils.py:117\u001b[0m, in \u001b[0;36mfilter_traceback.<locals>.error_handler\u001b[1;34m(*args, **kwargs)\u001b[0m\n\u001b[0;32m    115\u001b[0m filtered_tb \u001b[38;5;241m=\u001b[39m \u001b[38;5;28;01mNone\u001b[39;00m\n\u001b[0;32m    116\u001b[0m \u001b[38;5;28;01mtry\u001b[39;00m:\n\u001b[1;32m--> 117\u001b[0m     \u001b[38;5;28;01mreturn\u001b[39;00m \u001b[43mfn\u001b[49m\u001b[43m(\u001b[49m\u001b[38;5;241;43m*\u001b[39;49m\u001b[43margs\u001b[49m\u001b[43m,\u001b[49m\u001b[43m \u001b[49m\u001b[38;5;241;43m*\u001b[39;49m\u001b[38;5;241;43m*\u001b[39;49m\u001b[43mkwargs\u001b[49m\u001b[43m)\u001b[49m\n\u001b[0;32m    118\u001b[0m \u001b[38;5;28;01mexcept\u001b[39;00m \u001b[38;5;167;01mException\u001b[39;00m \u001b[38;5;28;01mas\u001b[39;00m e:\n\u001b[0;32m    119\u001b[0m     filtered_tb \u001b[38;5;241m=\u001b[39m _process_traceback_frames(e\u001b[38;5;241m.\u001b[39m__traceback__)\n",
      "File \u001b[1;32mc:\\Users\\ravml\\OneDrive\\Escritorio\\decimo semestre\\COMPILADORES\\El otro profe\\M2.5\\M2.5\\venv\\Lib\\site-packages\\keras\\src\\backend\\tensorflow\\trainer.py:314\u001b[0m, in \u001b[0;36mTensorFlowTrainer.fit\u001b[1;34m(self, x, y, batch_size, epochs, verbose, callbacks, validation_split, validation_data, shuffle, class_weight, sample_weight, initial_epoch, steps_per_epoch, validation_steps, validation_batch_size, validation_freq)\u001b[0m\n\u001b[0;32m    312\u001b[0m \u001b[38;5;28;01mfor\u001b[39;00m step, iterator \u001b[38;5;129;01min\u001b[39;00m epoch_iterator\u001b[38;5;241m.\u001b[39menumerate_epoch():\n\u001b[0;32m    313\u001b[0m     callbacks\u001b[38;5;241m.\u001b[39mon_train_batch_begin(step)\n\u001b[1;32m--> 314\u001b[0m     logs \u001b[38;5;241m=\u001b[39m \u001b[38;5;28;43mself\u001b[39;49m\u001b[38;5;241;43m.\u001b[39;49m\u001b[43mtrain_function\u001b[49m\u001b[43m(\u001b[49m\u001b[43miterator\u001b[49m\u001b[43m)\u001b[49m\n\u001b[0;32m    315\u001b[0m     logs \u001b[38;5;241m=\u001b[39m \u001b[38;5;28mself\u001b[39m\u001b[38;5;241m.\u001b[39m_pythonify_logs(logs)\n\u001b[0;32m    316\u001b[0m     callbacks\u001b[38;5;241m.\u001b[39mon_train_batch_end(step, logs)\n",
      "File \u001b[1;32mc:\\Users\\ravml\\OneDrive\\Escritorio\\decimo semestre\\COMPILADORES\\El otro profe\\M2.5\\M2.5\\venv\\Lib\\site-packages\\tensorflow\\python\\util\\traceback_utils.py:150\u001b[0m, in \u001b[0;36mfilter_traceback.<locals>.error_handler\u001b[1;34m(*args, **kwargs)\u001b[0m\n\u001b[0;32m    148\u001b[0m filtered_tb \u001b[38;5;241m=\u001b[39m \u001b[38;5;28;01mNone\u001b[39;00m\n\u001b[0;32m    149\u001b[0m \u001b[38;5;28;01mtry\u001b[39;00m:\n\u001b[1;32m--> 150\u001b[0m   \u001b[38;5;28;01mreturn\u001b[39;00m \u001b[43mfn\u001b[49m\u001b[43m(\u001b[49m\u001b[38;5;241;43m*\u001b[39;49m\u001b[43margs\u001b[49m\u001b[43m,\u001b[49m\u001b[43m \u001b[49m\u001b[38;5;241;43m*\u001b[39;49m\u001b[38;5;241;43m*\u001b[39;49m\u001b[43mkwargs\u001b[49m\u001b[43m)\u001b[49m\n\u001b[0;32m    151\u001b[0m \u001b[38;5;28;01mexcept\u001b[39;00m \u001b[38;5;167;01mException\u001b[39;00m \u001b[38;5;28;01mas\u001b[39;00m e:\n\u001b[0;32m    152\u001b[0m   filtered_tb \u001b[38;5;241m=\u001b[39m _process_traceback_frames(e\u001b[38;5;241m.\u001b[39m__traceback__)\n",
      "File \u001b[1;32mc:\\Users\\ravml\\OneDrive\\Escritorio\\decimo semestre\\COMPILADORES\\El otro profe\\M2.5\\M2.5\\venv\\Lib\\site-packages\\tensorflow\\python\\eager\\polymorphic_function\\polymorphic_function.py:833\u001b[0m, in \u001b[0;36mFunction.__call__\u001b[1;34m(self, *args, **kwds)\u001b[0m\n\u001b[0;32m    830\u001b[0m compiler \u001b[38;5;241m=\u001b[39m \u001b[38;5;124m\"\u001b[39m\u001b[38;5;124mxla\u001b[39m\u001b[38;5;124m\"\u001b[39m \u001b[38;5;28;01mif\u001b[39;00m \u001b[38;5;28mself\u001b[39m\u001b[38;5;241m.\u001b[39m_jit_compile \u001b[38;5;28;01melse\u001b[39;00m \u001b[38;5;124m\"\u001b[39m\u001b[38;5;124mnonXla\u001b[39m\u001b[38;5;124m\"\u001b[39m\n\u001b[0;32m    832\u001b[0m \u001b[38;5;28;01mwith\u001b[39;00m OptionalXlaContext(\u001b[38;5;28mself\u001b[39m\u001b[38;5;241m.\u001b[39m_jit_compile):\n\u001b[1;32m--> 833\u001b[0m   result \u001b[38;5;241m=\u001b[39m \u001b[38;5;28;43mself\u001b[39;49m\u001b[38;5;241;43m.\u001b[39;49m\u001b[43m_call\u001b[49m\u001b[43m(\u001b[49m\u001b[38;5;241;43m*\u001b[39;49m\u001b[43margs\u001b[49m\u001b[43m,\u001b[49m\u001b[43m \u001b[49m\u001b[38;5;241;43m*\u001b[39;49m\u001b[38;5;241;43m*\u001b[39;49m\u001b[43mkwds\u001b[49m\u001b[43m)\u001b[49m\n\u001b[0;32m    835\u001b[0m new_tracing_count \u001b[38;5;241m=\u001b[39m \u001b[38;5;28mself\u001b[39m\u001b[38;5;241m.\u001b[39mexperimental_get_tracing_count()\n\u001b[0;32m    836\u001b[0m without_tracing \u001b[38;5;241m=\u001b[39m (tracing_count \u001b[38;5;241m==\u001b[39m new_tracing_count)\n",
      "File \u001b[1;32mc:\\Users\\ravml\\OneDrive\\Escritorio\\decimo semestre\\COMPILADORES\\El otro profe\\M2.5\\M2.5\\venv\\Lib\\site-packages\\tensorflow\\python\\eager\\polymorphic_function\\polymorphic_function.py:878\u001b[0m, in \u001b[0;36mFunction._call\u001b[1;34m(self, *args, **kwds)\u001b[0m\n\u001b[0;32m    875\u001b[0m \u001b[38;5;28mself\u001b[39m\u001b[38;5;241m.\u001b[39m_lock\u001b[38;5;241m.\u001b[39mrelease()\n\u001b[0;32m    876\u001b[0m \u001b[38;5;66;03m# In this case we have not created variables on the first call. So we can\u001b[39;00m\n\u001b[0;32m    877\u001b[0m \u001b[38;5;66;03m# run the first trace but we should fail if variables are created.\u001b[39;00m\n\u001b[1;32m--> 878\u001b[0m results \u001b[38;5;241m=\u001b[39m \u001b[43mtracing_compilation\u001b[49m\u001b[38;5;241;43m.\u001b[39;49m\u001b[43mcall_function\u001b[49m\u001b[43m(\u001b[49m\n\u001b[0;32m    879\u001b[0m \u001b[43m    \u001b[49m\u001b[43margs\u001b[49m\u001b[43m,\u001b[49m\u001b[43m \u001b[49m\u001b[43mkwds\u001b[49m\u001b[43m,\u001b[49m\u001b[43m \u001b[49m\u001b[38;5;28;43mself\u001b[39;49m\u001b[38;5;241;43m.\u001b[39;49m\u001b[43m_variable_creation_config\u001b[49m\n\u001b[0;32m    880\u001b[0m \u001b[43m\u001b[49m\u001b[43m)\u001b[49m\n\u001b[0;32m    881\u001b[0m \u001b[38;5;28;01mif\u001b[39;00m \u001b[38;5;28mself\u001b[39m\u001b[38;5;241m.\u001b[39m_created_variables:\n\u001b[0;32m    882\u001b[0m   \u001b[38;5;28;01mraise\u001b[39;00m \u001b[38;5;167;01mValueError\u001b[39;00m(\u001b[38;5;124m\"\u001b[39m\u001b[38;5;124mCreating variables on a non-first call to a function\u001b[39m\u001b[38;5;124m\"\u001b[39m\n\u001b[0;32m    883\u001b[0m                    \u001b[38;5;124m\"\u001b[39m\u001b[38;5;124m decorated with tf.function.\u001b[39m\u001b[38;5;124m\"\u001b[39m)\n",
      "File \u001b[1;32mc:\\Users\\ravml\\OneDrive\\Escritorio\\decimo semestre\\COMPILADORES\\El otro profe\\M2.5\\M2.5\\venv\\Lib\\site-packages\\tensorflow\\python\\eager\\polymorphic_function\\tracing_compilation.py:139\u001b[0m, in \u001b[0;36mcall_function\u001b[1;34m(args, kwargs, tracing_options)\u001b[0m\n\u001b[0;32m    137\u001b[0m bound_args \u001b[38;5;241m=\u001b[39m function\u001b[38;5;241m.\u001b[39mfunction_type\u001b[38;5;241m.\u001b[39mbind(\u001b[38;5;241m*\u001b[39margs, \u001b[38;5;241m*\u001b[39m\u001b[38;5;241m*\u001b[39mkwargs)\n\u001b[0;32m    138\u001b[0m flat_inputs \u001b[38;5;241m=\u001b[39m function\u001b[38;5;241m.\u001b[39mfunction_type\u001b[38;5;241m.\u001b[39munpack_inputs(bound_args)\n\u001b[1;32m--> 139\u001b[0m \u001b[38;5;28;01mreturn\u001b[39;00m \u001b[43mfunction\u001b[49m\u001b[38;5;241;43m.\u001b[39;49m\u001b[43m_call_flat\u001b[49m\u001b[43m(\u001b[49m\u001b[43m  \u001b[49m\u001b[38;5;66;43;03m# pylint: disable=protected-access\u001b[39;49;00m\n\u001b[0;32m    140\u001b[0m \u001b[43m    \u001b[49m\u001b[43mflat_inputs\u001b[49m\u001b[43m,\u001b[49m\u001b[43m \u001b[49m\u001b[43mcaptured_inputs\u001b[49m\u001b[38;5;241;43m=\u001b[39;49m\u001b[43mfunction\u001b[49m\u001b[38;5;241;43m.\u001b[39;49m\u001b[43mcaptured_inputs\u001b[49m\n\u001b[0;32m    141\u001b[0m \u001b[43m\u001b[49m\u001b[43m)\u001b[49m\n",
      "File \u001b[1;32mc:\\Users\\ravml\\OneDrive\\Escritorio\\decimo semestre\\COMPILADORES\\El otro profe\\M2.5\\M2.5\\venv\\Lib\\site-packages\\tensorflow\\python\\eager\\polymorphic_function\\concrete_function.py:1322\u001b[0m, in \u001b[0;36mConcreteFunction._call_flat\u001b[1;34m(self, tensor_inputs, captured_inputs)\u001b[0m\n\u001b[0;32m   1318\u001b[0m possible_gradient_type \u001b[38;5;241m=\u001b[39m gradients_util\u001b[38;5;241m.\u001b[39mPossibleTapeGradientTypes(args)\n\u001b[0;32m   1319\u001b[0m \u001b[38;5;28;01mif\u001b[39;00m (possible_gradient_type \u001b[38;5;241m==\u001b[39m gradients_util\u001b[38;5;241m.\u001b[39mPOSSIBLE_GRADIENT_TYPES_NONE\n\u001b[0;32m   1320\u001b[0m     \u001b[38;5;129;01mand\u001b[39;00m executing_eagerly):\n\u001b[0;32m   1321\u001b[0m   \u001b[38;5;66;03m# No tape is watching; skip to running the function.\u001b[39;00m\n\u001b[1;32m-> 1322\u001b[0m   \u001b[38;5;28;01mreturn\u001b[39;00m \u001b[38;5;28;43mself\u001b[39;49m\u001b[38;5;241;43m.\u001b[39;49m\u001b[43m_inference_function\u001b[49m\u001b[38;5;241;43m.\u001b[39;49m\u001b[43mcall_preflattened\u001b[49m\u001b[43m(\u001b[49m\u001b[43margs\u001b[49m\u001b[43m)\u001b[49m\n\u001b[0;32m   1323\u001b[0m forward_backward \u001b[38;5;241m=\u001b[39m \u001b[38;5;28mself\u001b[39m\u001b[38;5;241m.\u001b[39m_select_forward_and_backward_functions(\n\u001b[0;32m   1324\u001b[0m     args,\n\u001b[0;32m   1325\u001b[0m     possible_gradient_type,\n\u001b[0;32m   1326\u001b[0m     executing_eagerly)\n\u001b[0;32m   1327\u001b[0m forward_function, args_with_tangents \u001b[38;5;241m=\u001b[39m forward_backward\u001b[38;5;241m.\u001b[39mforward()\n",
      "File \u001b[1;32mc:\\Users\\ravml\\OneDrive\\Escritorio\\decimo semestre\\COMPILADORES\\El otro profe\\M2.5\\M2.5\\venv\\Lib\\site-packages\\tensorflow\\python\\eager\\polymorphic_function\\atomic_function.py:216\u001b[0m, in \u001b[0;36mAtomicFunction.call_preflattened\u001b[1;34m(self, args)\u001b[0m\n\u001b[0;32m    214\u001b[0m \u001b[38;5;28;01mdef\u001b[39;00m \u001b[38;5;21mcall_preflattened\u001b[39m(\u001b[38;5;28mself\u001b[39m, args: Sequence[core\u001b[38;5;241m.\u001b[39mTensor]) \u001b[38;5;241m-\u001b[39m\u001b[38;5;241m>\u001b[39m Any:\n\u001b[0;32m    215\u001b[0m \u001b[38;5;250m  \u001b[39m\u001b[38;5;124;03m\"\"\"Calls with flattened tensor inputs and returns the structured output.\"\"\"\u001b[39;00m\n\u001b[1;32m--> 216\u001b[0m   flat_outputs \u001b[38;5;241m=\u001b[39m \u001b[38;5;28;43mself\u001b[39;49m\u001b[38;5;241;43m.\u001b[39;49m\u001b[43mcall_flat\u001b[49m\u001b[43m(\u001b[49m\u001b[38;5;241;43m*\u001b[39;49m\u001b[43margs\u001b[49m\u001b[43m)\u001b[49m\n\u001b[0;32m    217\u001b[0m   \u001b[38;5;28;01mreturn\u001b[39;00m \u001b[38;5;28mself\u001b[39m\u001b[38;5;241m.\u001b[39mfunction_type\u001b[38;5;241m.\u001b[39mpack_output(flat_outputs)\n",
      "File \u001b[1;32mc:\\Users\\ravml\\OneDrive\\Escritorio\\decimo semestre\\COMPILADORES\\El otro profe\\M2.5\\M2.5\\venv\\Lib\\site-packages\\tensorflow\\python\\eager\\polymorphic_function\\atomic_function.py:251\u001b[0m, in \u001b[0;36mAtomicFunction.call_flat\u001b[1;34m(self, *args)\u001b[0m\n\u001b[0;32m    249\u001b[0m \u001b[38;5;28;01mwith\u001b[39;00m record\u001b[38;5;241m.\u001b[39mstop_recording():\n\u001b[0;32m    250\u001b[0m   \u001b[38;5;28;01mif\u001b[39;00m \u001b[38;5;28mself\u001b[39m\u001b[38;5;241m.\u001b[39m_bound_context\u001b[38;5;241m.\u001b[39mexecuting_eagerly():\n\u001b[1;32m--> 251\u001b[0m     outputs \u001b[38;5;241m=\u001b[39m \u001b[38;5;28;43mself\u001b[39;49m\u001b[38;5;241;43m.\u001b[39;49m\u001b[43m_bound_context\u001b[49m\u001b[38;5;241;43m.\u001b[39;49m\u001b[43mcall_function\u001b[49m\u001b[43m(\u001b[49m\n\u001b[0;32m    252\u001b[0m \u001b[43m        \u001b[49m\u001b[38;5;28;43mself\u001b[39;49m\u001b[38;5;241;43m.\u001b[39;49m\u001b[43mname\u001b[49m\u001b[43m,\u001b[49m\n\u001b[0;32m    253\u001b[0m \u001b[43m        \u001b[49m\u001b[38;5;28;43mlist\u001b[39;49m\u001b[43m(\u001b[49m\u001b[43margs\u001b[49m\u001b[43m)\u001b[49m\u001b[43m,\u001b[49m\n\u001b[0;32m    254\u001b[0m \u001b[43m        \u001b[49m\u001b[38;5;28;43mlen\u001b[39;49m\u001b[43m(\u001b[49m\u001b[38;5;28;43mself\u001b[39;49m\u001b[38;5;241;43m.\u001b[39;49m\u001b[43mfunction_type\u001b[49m\u001b[38;5;241;43m.\u001b[39;49m\u001b[43mflat_outputs\u001b[49m\u001b[43m)\u001b[49m\u001b[43m,\u001b[49m\n\u001b[0;32m    255\u001b[0m \u001b[43m    \u001b[49m\u001b[43m)\u001b[49m\n\u001b[0;32m    256\u001b[0m   \u001b[38;5;28;01melse\u001b[39;00m:\n\u001b[0;32m    257\u001b[0m     outputs \u001b[38;5;241m=\u001b[39m make_call_op_in_graph(\n\u001b[0;32m    258\u001b[0m         \u001b[38;5;28mself\u001b[39m,\n\u001b[0;32m    259\u001b[0m         \u001b[38;5;28mlist\u001b[39m(args),\n\u001b[0;32m    260\u001b[0m         \u001b[38;5;28mself\u001b[39m\u001b[38;5;241m.\u001b[39m_bound_context\u001b[38;5;241m.\u001b[39mfunction_call_options\u001b[38;5;241m.\u001b[39mas_attrs(),\n\u001b[0;32m    261\u001b[0m     )\n",
      "File \u001b[1;32mc:\\Users\\ravml\\OneDrive\\Escritorio\\decimo semestre\\COMPILADORES\\El otro profe\\M2.5\\M2.5\\venv\\Lib\\site-packages\\tensorflow\\python\\eager\\context.py:1500\u001b[0m, in \u001b[0;36mContext.call_function\u001b[1;34m(self, name, tensor_inputs, num_outputs)\u001b[0m\n\u001b[0;32m   1498\u001b[0m cancellation_context \u001b[38;5;241m=\u001b[39m cancellation\u001b[38;5;241m.\u001b[39mcontext()\n\u001b[0;32m   1499\u001b[0m \u001b[38;5;28;01mif\u001b[39;00m cancellation_context \u001b[38;5;129;01mis\u001b[39;00m \u001b[38;5;28;01mNone\u001b[39;00m:\n\u001b[1;32m-> 1500\u001b[0m   outputs \u001b[38;5;241m=\u001b[39m \u001b[43mexecute\u001b[49m\u001b[38;5;241;43m.\u001b[39;49m\u001b[43mexecute\u001b[49m\u001b[43m(\u001b[49m\n\u001b[0;32m   1501\u001b[0m \u001b[43m      \u001b[49m\u001b[43mname\u001b[49m\u001b[38;5;241;43m.\u001b[39;49m\u001b[43mdecode\u001b[49m\u001b[43m(\u001b[49m\u001b[38;5;124;43m\"\u001b[39;49m\u001b[38;5;124;43mutf-8\u001b[39;49m\u001b[38;5;124;43m\"\u001b[39;49m\u001b[43m)\u001b[49m\u001b[43m,\u001b[49m\n\u001b[0;32m   1502\u001b[0m \u001b[43m      \u001b[49m\u001b[43mnum_outputs\u001b[49m\u001b[38;5;241;43m=\u001b[39;49m\u001b[43mnum_outputs\u001b[49m\u001b[43m,\u001b[49m\n\u001b[0;32m   1503\u001b[0m \u001b[43m      \u001b[49m\u001b[43minputs\u001b[49m\u001b[38;5;241;43m=\u001b[39;49m\u001b[43mtensor_inputs\u001b[49m\u001b[43m,\u001b[49m\n\u001b[0;32m   1504\u001b[0m \u001b[43m      \u001b[49m\u001b[43mattrs\u001b[49m\u001b[38;5;241;43m=\u001b[39;49m\u001b[43mattrs\u001b[49m\u001b[43m,\u001b[49m\n\u001b[0;32m   1505\u001b[0m \u001b[43m      \u001b[49m\u001b[43mctx\u001b[49m\u001b[38;5;241;43m=\u001b[39;49m\u001b[38;5;28;43mself\u001b[39;49m\u001b[43m,\u001b[49m\n\u001b[0;32m   1506\u001b[0m \u001b[43m  \u001b[49m\u001b[43m)\u001b[49m\n\u001b[0;32m   1507\u001b[0m \u001b[38;5;28;01melse\u001b[39;00m:\n\u001b[0;32m   1508\u001b[0m   outputs \u001b[38;5;241m=\u001b[39m execute\u001b[38;5;241m.\u001b[39mexecute_with_cancellation(\n\u001b[0;32m   1509\u001b[0m       name\u001b[38;5;241m.\u001b[39mdecode(\u001b[38;5;124m\"\u001b[39m\u001b[38;5;124mutf-8\u001b[39m\u001b[38;5;124m\"\u001b[39m),\n\u001b[0;32m   1510\u001b[0m       num_outputs\u001b[38;5;241m=\u001b[39mnum_outputs,\n\u001b[1;32m   (...)\u001b[0m\n\u001b[0;32m   1514\u001b[0m       cancellation_manager\u001b[38;5;241m=\u001b[39mcancellation_context,\n\u001b[0;32m   1515\u001b[0m   )\n",
      "File \u001b[1;32mc:\\Users\\ravml\\OneDrive\\Escritorio\\decimo semestre\\COMPILADORES\\El otro profe\\M2.5\\M2.5\\venv\\Lib\\site-packages\\tensorflow\\python\\eager\\execute.py:53\u001b[0m, in \u001b[0;36mquick_execute\u001b[1;34m(op_name, num_outputs, inputs, attrs, ctx, name)\u001b[0m\n\u001b[0;32m     51\u001b[0m \u001b[38;5;28;01mtry\u001b[39;00m:\n\u001b[0;32m     52\u001b[0m   ctx\u001b[38;5;241m.\u001b[39mensure_initialized()\n\u001b[1;32m---> 53\u001b[0m   tensors \u001b[38;5;241m=\u001b[39m \u001b[43mpywrap_tfe\u001b[49m\u001b[38;5;241;43m.\u001b[39;49m\u001b[43mTFE_Py_Execute\u001b[49m\u001b[43m(\u001b[49m\u001b[43mctx\u001b[49m\u001b[38;5;241;43m.\u001b[39;49m\u001b[43m_handle\u001b[49m\u001b[43m,\u001b[49m\u001b[43m \u001b[49m\u001b[43mdevice_name\u001b[49m\u001b[43m,\u001b[49m\u001b[43m \u001b[49m\u001b[43mop_name\u001b[49m\u001b[43m,\u001b[49m\n\u001b[0;32m     54\u001b[0m \u001b[43m                                      \u001b[49m\u001b[43minputs\u001b[49m\u001b[43m,\u001b[49m\u001b[43m \u001b[49m\u001b[43mattrs\u001b[49m\u001b[43m,\u001b[49m\u001b[43m \u001b[49m\u001b[43mnum_outputs\u001b[49m\u001b[43m)\u001b[49m\n\u001b[0;32m     55\u001b[0m \u001b[38;5;28;01mexcept\u001b[39;00m core\u001b[38;5;241m.\u001b[39m_NotOkStatusException \u001b[38;5;28;01mas\u001b[39;00m e:\n\u001b[0;32m     56\u001b[0m   \u001b[38;5;28;01mif\u001b[39;00m name \u001b[38;5;129;01mis\u001b[39;00m \u001b[38;5;129;01mnot\u001b[39;00m \u001b[38;5;28;01mNone\u001b[39;00m:\n",
      "\u001b[1;31mKeyboardInterrupt\u001b[0m: "
     ]
    }
   ],
   "source": [
    "#Entrenamiento de los modelos con distintos hyper paramteros\n",
    "#Se usan la misma arquitectura del modelo 1, ya que esta es la más rapida de entrenar\n",
    "modelo3Entrenado = False\n",
    "\n",
    "if modelo3Entrenado == False:\n",
    "    for lote in lotes:\n",
    "        for epoca in epocas:\n",
    "            for aprendizaje in aprendizajes:\n",
    "                modelo3 = models.Sequential([\n",
    "                    layers.Conv2D(32, (3, 3), activation= RELU, input_shape=(32, 32, 3)),\n",
    "                    layers.MaxPooling2D((2, 2)),\n",
    "                    layers.Flatten(),\n",
    "                    layers.Dense(128, activation= RELU),\n",
    "                    layers.Dense(10, activation= SOFTMAX)\n",
    "                ])\n",
    "                optimizador = tf.keras.optimizers.Adam(learning_rate=aprendizaje) \n",
    "                modelo3.compile(optimizer=optimizador,loss='sparse_categorical_crossentropy',metrics=['accuracy'])\n",
    "                \n",
    "                entrenamiento3 = modelo3.fit(EntrenamientoDeImagenes, EntrenamientoDeEtiquetas, epochs=epoca, batch_size=lote, validation_split=0.2, verbose=0)\n",
    "                resultadosModelo3 = modelo3.evaluate(PruebaDeImagenes, PruebaDeEtiquetas, verbose=0)\n",
    "                precisionModelo3 = resultadosModelo3 [1]\n",
    "                entrenamientos.append((aprendizaje, lote, epoca, precisionModelo3))\n",
    "    modelo3Entrenado = True\n",
    "\n",
    "else:\n",
    "    print(\"Modelo 3 ya entrenado previamente, cambie la condicional inicial si lo quiere re-entrenar\")    \n",
    "\n"
   ]
  },
  {
   "cell_type": "code",
   "execution_count": null,
   "id": "9808505a",
   "metadata": {},
   "outputs": [],
   "source": [
    "#Despliegue del mejor modelo con los mejores hyper parametros\n",
    "mejorResultado = max(entrenamientos, key=lambda x: x[3])\n",
    "print('Los mejores hiperparametros del modelo 3 tienen una tasa de aprendizaje de: ', mejorResultado[0], ',tamanio de lote de: ', mejorResultado[1], ',cantidad de epocas: ', mejorResultado[2], ',precision de:', mejorResultado[3] )"
   ]
  },
  {
   "cell_type": "markdown",
   "id": "92de88bf",
   "metadata": {},
   "source": [
    "## Experiment 4"
   ]
  },
  {
   "cell_type": "markdown",
   "id": "e35122f5",
   "metadata": {},
   "source": [
    "Consider implementing one or more advanced techniques, such as batch normalisation, data augmentation, or transfer\n",
    "learning. (Even you could try more exotique architectures.) Hence, comparing the model’s performance with these\n",
    "techniques to the baseline model will be easy."
   ]
  },
  {
   "cell_type": "markdown",
   "id": "8783d395",
   "metadata": {},
   "source": [
    "Normalización de Batch y Aumento de Datos"
   ]
  },
  {
   "cell_type": "code",
   "execution_count": 43,
   "id": "aa7ba3b9",
   "metadata": {},
   "outputs": [],
   "source": [
    "#Aplicación de la normalización de Batch\n",
    "#Se aplica a la arquitectura del Modelo 1 porque es el más sencillo de todos los Modelos\n",
    "modelo4 = models.Sequential([\n",
    "    layers.Conv2D(32, (3, 3), activation= RELU, input_shape=(32, 32, 3)),\n",
    "    layers.BatchNormalization(),\n",
    "    layers.MaxPooling2D((2, 2)),\n",
    "    layers.Flatten(),\n",
    "    layers.Dense(128, activation= RELU),\n",
    "    layers.BatchNormalization(),\n",
    "    layers.Dense(10, activation= SOFTMAX)\n",
    "])\n",
    "\n",
    "modelo4.compile(optimizer='adam',\n",
    "              loss='sparse_categorical_crossentropy',\n",
    "              metrics=['accuracy'])"
   ]
  },
  {
   "cell_type": "code",
   "execution_count": 44,
   "id": "bb4b8c8e",
   "metadata": {},
   "outputs": [],
   "source": [
    "#Definición del aumento de datos\n",
    "aumentoDeDatos = ImageDataGenerator(\n",
    "    rotation_range=15,\n",
    "    width_shift_range=0.1,\n",
    "    height_shift_range=0.1,\n",
    "    horizontal_flip=True,\n",
    ")\n",
    "aumentoDeDatos.fit(EntrenamientoDeImagenes)"
   ]
  },
  {
   "cell_type": "code",
   "execution_count": 45,
   "id": "1131e906",
   "metadata": {},
   "outputs": [
    {
     "name": "stdout",
     "output_type": "stream",
     "text": [
      "Epoch 1/10\n",
      "\u001b[1m782/782\u001b[0m \u001b[32m━━━━━━━━━━━━━━━━━━━━\u001b[0m\u001b[37m\u001b[0m \u001b[1m59s\u001b[0m 71ms/step - accuracy: 0.4224 - loss: 1.6723 - val_accuracy: 0.5475 - val_loss: 1.2686\n",
      "Epoch 2/10\n",
      "\u001b[1m782/782\u001b[0m \u001b[32m━━━━━━━━━━━━━━━━━━━━\u001b[0m\u001b[37m\u001b[0m \u001b[1m79s\u001b[0m 100ms/step - accuracy: 0.5549 - loss: 1.2459 - val_accuracy: 0.5664 - val_loss: 1.3598\n",
      "Epoch 3/10\n",
      "\u001b[1m782/782\u001b[0m \u001b[32m━━━━━━━━━━━━━━━━━━━━\u001b[0m\u001b[37m\u001b[0m \u001b[1m62s\u001b[0m 79ms/step - accuracy: 0.5911 - loss: 1.1464 - val_accuracy: 0.5467 - val_loss: 1.4358\n",
      "Epoch 4/10\n",
      "\u001b[1m782/782\u001b[0m \u001b[32m━━━━━━━━━━━━━━━━━━━━\u001b[0m\u001b[37m\u001b[0m \u001b[1m58s\u001b[0m 73ms/step - accuracy: 0.6133 - loss: 1.0863 - val_accuracy: 0.6155 - val_loss: 1.1006\n",
      "Epoch 5/10\n",
      "\u001b[1m782/782\u001b[0m \u001b[32m━━━━━━━━━━━━━━━━━━━━\u001b[0m\u001b[37m\u001b[0m \u001b[1m67s\u001b[0m 85ms/step - accuracy: 0.6289 - loss: 1.0431 - val_accuracy: 0.6233 - val_loss: 1.1017\n",
      "Epoch 6/10\n",
      "\u001b[1m782/782\u001b[0m \u001b[32m━━━━━━━━━━━━━━━━━━━━\u001b[0m\u001b[37m\u001b[0m \u001b[1m58s\u001b[0m 74ms/step - accuracy: 0.6444 - loss: 1.0136 - val_accuracy: 0.6369 - val_loss: 1.0700\n",
      "Epoch 7/10\n",
      "\u001b[1m782/782\u001b[0m \u001b[32m━━━━━━━━━━━━━━━━━━━━\u001b[0m\u001b[37m\u001b[0m \u001b[1m64s\u001b[0m 81ms/step - accuracy: 0.6558 - loss: 0.9833 - val_accuracy: 0.6584 - val_loss: 1.0135\n",
      "Epoch 8/10\n",
      "\u001b[1m782/782\u001b[0m \u001b[32m━━━━━━━━━━━━━━━━━━━━\u001b[0m\u001b[37m\u001b[0m \u001b[1m55s\u001b[0m 70ms/step - accuracy: 0.6555 - loss: 0.9633 - val_accuracy: 0.6168 - val_loss: 1.1658\n",
      "Epoch 9/10\n",
      "\u001b[1m782/782\u001b[0m \u001b[32m━━━━━━━━━━━━━━━━━━━━\u001b[0m\u001b[37m\u001b[0m \u001b[1m51s\u001b[0m 65ms/step - accuracy: 0.6645 - loss: 0.9501 - val_accuracy: 0.5795 - val_loss: 1.3830\n",
      "Epoch 10/10\n",
      "\u001b[1m782/782\u001b[0m \u001b[32m━━━━━━━━━━━━━━━━━━━━\u001b[0m\u001b[37m\u001b[0m \u001b[1m56s\u001b[0m 71ms/step - accuracy: 0.6676 - loss: 0.9333 - val_accuracy: 0.6543 - val_loss: 1.0395\n"
     ]
    }
   ],
   "source": [
    "#Entrenamiento del Modelo 4\n",
    "modelo4Entrenado = False\n",
    "\n",
    "if modelo4Entrenado == False:\n",
    "    entrenamiento4 = modelo4.fit(aumentoDeDatos.flow(EntrenamientoDeImagenes, EntrenamientoDeEtiquetas, batch_size=64), epochs=10, \n",
    "                    validation_data=(PruebaDeImagenes, PruebaDeEtiquetas))\n",
    "    modelo4Entrenado = True\n",
    "\n",
    "else:\n",
    "    print(\"Modelo 4 ya entrenado previamente, cambie la condicional inicial si lo quiere re-entrenar\") "
   ]
  },
  {
   "cell_type": "code",
   "execution_count": 46,
   "id": "20b37618",
   "metadata": {},
   "outputs": [
    {
     "name": "stdout",
     "output_type": "stream",
     "text": [
      "313/313 - 1s - 4ms/step - accuracy: 0.6543 - loss: 1.0395\n",
      "Precision del Modelo 4: 65.43%\n"
     ]
    }
   ],
   "source": [
    "# Precision del Modelo 4\n",
    "resultadosModelo4 = modelo4.evaluate(PruebaDeImagenes, PruebaDeEtiquetas, verbose=2)\n",
    "precisionModelo4 = resultadosModelo4 [1] * 100\n",
    "\n",
    "print('Precision del Modelo 4: %.2f%%' % precisionModelo4)"
   ]
  }
 ],
 "metadata": {
  "colab": {
   "provenance": []
  },
  "kernelspec": {
   "display_name": "Python 3 (ipykernel)",
   "language": "python",
   "name": "python3"
  },
  "language_info": {
   "codemirror_mode": {
    "name": "ipython",
    "version": 3
   },
   "file_extension": ".py",
   "mimetype": "text/x-python",
   "name": "python",
   "nbconvert_exporter": "python",
   "pygments_lexer": "ipython3",
   "version": "3.11.3"
  }
 },
 "nbformat": 4,
 "nbformat_minor": 5
}
